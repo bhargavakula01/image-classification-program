{
  "nbformat": 4,
  "nbformat_minor": 0,
  "metadata": {
    "colab": {
      "name": "image-classification.ipynb",
      "provenance": [],
      "collapsed_sections": [],
      "authorship_tag": "ABX9TyNCfkTA/GzsijEezYcgQRSp",
      "include_colab_link": true
    },
    "kernelspec": {
      "name": "python3",
      "display_name": "Python 3"
    },
    "accelerator": "TPU"
  },
  "cells": [
    {
      "cell_type": "markdown",
      "metadata": {
        "id": "view-in-github",
        "colab_type": "text"
      },
      "source": [
        "<a href=\"https://colab.research.google.com/github/bhargavakula01/image-classification-program/blob/main/image_classification.ipynb\" target=\"_parent\"><img src=\"https://colab.research.google.com/assets/colab-badge.svg\" alt=\"Open In Colab\"/></a>"
      ]
    },
    {
      "cell_type": "code",
      "metadata": {
        "id": "abZ5E79I9q0l"
      },
      "source": [
        "from keras.models import Sequential\n",
        "from keras.layers.core import Dense\n",
        "from keras.layers import Dropout\n",
        "from keras.layers.core import Activation\n",
        "from keras.optimizers import SGD #Backwards propagation method (similar to gradient decent)\n",
        "from keras.utils import np_utils\n",
        "from keras.datasets import mnist #bunch of handwritten digits :)\n",
        "import numpy as np\n",
        "import matplotlib.pyplot as plt"
      ],
      "execution_count": 7,
      "outputs": []
    },
    {
      "cell_type": "code",
      "metadata": {
        "colab": {
          "base_uri": "https://localhost:8080/"
        },
        "id": "YUFUGBNx-Aaz",
        "outputId": "89c4fe72-23b0-43c7-82c8-8273b19eadec"
      },
      "source": [
        "#loading data from the keras datasets and splitting it into training and validation\n",
        "# https://stackoverflow.com/questions/48566821/is-there-a-keras-method-to-split-data\n",
        "(x_train, y_train), (x_test, y_test) = mnist.load_data()\n",
        "#plt.imshow(x_train[0], cmap= 'grey) <-- allows one to view the images"
      ],
      "execution_count": null,
      "outputs": [
        {
          "output_type": "stream",
          "text": [
            "Downloading data from https://storage.googleapis.com/tensorflow/tf-keras-datasets/mnist.npz\n",
            "11493376/11490434 [==============================] - 0s 0us/step\n"
          ],
          "name": "stdout"
        }
      ]
    },
    {
      "cell_type": "code",
      "metadata": {
        "colab": {
          "base_uri": "https://localhost:8080/"
        },
        "id": "BRfrnt2T-dQV",
        "outputId": "3cfdc644-bad3-43d6-b66d-2bf67fe35647"
      },
      "source": [
        "print(\"previous x_train shape:\",x_train.shape) #60000 data points\n",
        "print(\"previous x_test shape:\",x_test.shape) #10000 data points\n",
        "\n",
        "# data must be reshaped in order to get it to (n, xi) format \n",
        "x_train = x_train.reshape(60000, 28*28)\n",
        "x_test = x_test.reshape(10000, 28*28)\n",
        "#converting data type to floats\n",
        "x_train = x_train.astype('float32')\n",
        "x_test = x_test.astype('float32')\n"
      ],
      "execution_count": null,
      "outputs": [
        {
          "output_type": "stream",
          "text": [
            "previous x_train shape: (60000, 28, 28)\n",
            "previous x_test shape: (10000, 28, 28)\n"
          ],
          "name": "stdout"
        }
      ]
    },
    {
      "cell_type": "code",
      "metadata": {
        "colab": {
          "base_uri": "https://localhost:8080/"
        },
        "id": "g7vM8-gpAnUn",
        "outputId": "4797ebe5-feb0-424e-c993-701ce88735ae"
      },
      "source": [
        "#normalizing the data <-- basically making the pixel values between 0 and 1\n",
        "  # normalizing data in math is setting lengths to 1. In resizing data, this usually means to set the data values between 0 and 1 \n",
        "  #(https://www.calculushowto.com/types-of-functions/normalized-function-normalized-data-and-normalization/)\n",
        "\n",
        "x_train /= 255\n",
        "x_test /= 255\n",
        "print(x_train.shape)\n",
        "print(x_test.shape)"
      ],
      "execution_count": null,
      "outputs": [
        {
          "output_type": "stream",
          "text": [
            "(60000, 784)\n",
            "(10000, 784)\n"
          ],
          "name": "stdout"
        }
      ]
    },
    {
      "cell_type": "code",
      "metadata": {
        "id": "TIW_mp00FcXP"
      },
      "source": [
        "#splitting y_train and y_test into catagories(1 category for each number)\n",
        "\n",
        "y_var_train = np_utils.to_categorical(y_train, 10)\n",
        "y_var_test = np_utils.to_categorical(y_test, 10)\n"
      ],
      "execution_count": null,
      "outputs": []
    },
    {
      "cell_type": "code",
      "metadata": {
        "colab": {
          "base_uri": "https://localhost:8080/",
          "height": 1000
        },
        "id": "PW7wC-WOGzuS",
        "outputId": "9cb44b26-04af-404b-f41c-4d6865a484ef"
      },
      "source": [
        "#developing model\n",
        "image_model = Sequential()\n",
        "image_model.add(Dense(10, input_shape= (784,)))\n",
        "image_model.add(Dropout(rate= 0.2))\n",
        "image_model.add(Dense(10, activation= 'relu'))\n",
        "image_model.add(Dense(10, activation= 'softmax'))\n",
        "\n",
        "image_model.compile(optimizer= SGD(), loss='categorical_crossentropy',  metrics= ['accuracy'])\n",
        "dlmodel =image_model.fit(x_train, y_var_train, epochs= 100, batch_size= 500, verbose= 2, validation_split=0.05)\n",
        "\n",
        "plt.plot(dlmodel.history['accuracy'], label= 'train')\n",
        "plt.plot(dlmodel.history['val_accuracy'], label= 'validation/test')\n",
        "plt.title('Plotting Accuracy')\n",
        "plt.xlabel('Epoch Num')\n",
        "plt.ylabel('Accuracy')\n",
        "plt.legend(loc= 'lower right')\n",
        "plt.show()"
      ],
      "execution_count": 8,
      "outputs": [
        {
          "output_type": "stream",
          "text": [
            "Epoch 1/100\n",
            "114/114 - 1s - loss: 2.2204 - accuracy: 0.1889 - val_loss: 2.0801 - val_accuracy: 0.3197\n",
            "Epoch 2/100\n",
            "114/114 - 0s - loss: 1.9922 - accuracy: 0.3209 - val_loss: 1.7839 - val_accuracy: 0.4510\n",
            "Epoch 3/100\n",
            "114/114 - 0s - loss: 1.7509 - accuracy: 0.4141 - val_loss: 1.5113 - val_accuracy: 0.5593\n",
            "Epoch 4/100\n",
            "114/114 - 0s - loss: 1.5572 - accuracy: 0.4730 - val_loss: 1.3116 - val_accuracy: 0.6047\n",
            "Epoch 5/100\n",
            "114/114 - 0s - loss: 1.4058 - accuracy: 0.5185 - val_loss: 1.1569 - val_accuracy: 0.6507\n",
            "Epoch 6/100\n",
            "114/114 - 0s - loss: 1.2806 - accuracy: 0.5731 - val_loss: 1.0249 - val_accuracy: 0.7253\n",
            "Epoch 7/100\n",
            "114/114 - 0s - loss: 1.1693 - accuracy: 0.6279 - val_loss: 0.9059 - val_accuracy: 0.7597\n",
            "Epoch 8/100\n",
            "114/114 - 0s - loss: 1.0728 - accuracy: 0.6640 - val_loss: 0.8066 - val_accuracy: 0.7840\n",
            "Epoch 9/100\n",
            "114/114 - 0s - loss: 0.9923 - accuracy: 0.6821 - val_loss: 0.7264 - val_accuracy: 0.7993\n",
            "Epoch 10/100\n",
            "114/114 - 0s - loss: 0.9266 - accuracy: 0.7017 - val_loss: 0.6645 - val_accuracy: 0.8187\n",
            "Epoch 11/100\n",
            "114/114 - 0s - loss: 0.8773 - accuracy: 0.7176 - val_loss: 0.6134 - val_accuracy: 0.8360\n",
            "Epoch 12/100\n",
            "114/114 - 0s - loss: 0.8292 - accuracy: 0.7330 - val_loss: 0.5709 - val_accuracy: 0.8467\n",
            "Epoch 13/100\n",
            "114/114 - 0s - loss: 0.7938 - accuracy: 0.7448 - val_loss: 0.5373 - val_accuracy: 0.8580\n",
            "Epoch 14/100\n",
            "114/114 - 0s - loss: 0.7620 - accuracy: 0.7566 - val_loss: 0.5056 - val_accuracy: 0.8660\n",
            "Epoch 15/100\n",
            "114/114 - 0s - loss: 0.7375 - accuracy: 0.7652 - val_loss: 0.4801 - val_accuracy: 0.8733\n",
            "Epoch 16/100\n",
            "114/114 - 0s - loss: 0.7151 - accuracy: 0.7709 - val_loss: 0.4588 - val_accuracy: 0.8780\n",
            "Epoch 17/100\n",
            "114/114 - 0s - loss: 0.6954 - accuracy: 0.7786 - val_loss: 0.4393 - val_accuracy: 0.8847\n",
            "Epoch 18/100\n",
            "114/114 - 0s - loss: 0.6772 - accuracy: 0.7838 - val_loss: 0.4240 - val_accuracy: 0.8893\n",
            "Epoch 19/100\n",
            "114/114 - 0s - loss: 0.6634 - accuracy: 0.7891 - val_loss: 0.4103 - val_accuracy: 0.8907\n",
            "Epoch 20/100\n",
            "114/114 - 0s - loss: 0.6539 - accuracy: 0.7914 - val_loss: 0.3988 - val_accuracy: 0.8940\n",
            "Epoch 21/100\n",
            "114/114 - 0s - loss: 0.6440 - accuracy: 0.7966 - val_loss: 0.3885 - val_accuracy: 0.8963\n",
            "Epoch 22/100\n",
            "114/114 - 0s - loss: 0.6302 - accuracy: 0.8011 - val_loss: 0.3793 - val_accuracy: 0.8990\n",
            "Epoch 23/100\n",
            "114/114 - 0s - loss: 0.6204 - accuracy: 0.8038 - val_loss: 0.3707 - val_accuracy: 0.9000\n",
            "Epoch 24/100\n",
            "114/114 - 0s - loss: 0.6135 - accuracy: 0.8057 - val_loss: 0.3644 - val_accuracy: 0.9023\n",
            "Epoch 25/100\n",
            "114/114 - 0s - loss: 0.6042 - accuracy: 0.8095 - val_loss: 0.3571 - val_accuracy: 0.9023\n",
            "Epoch 26/100\n",
            "114/114 - 0s - loss: 0.5974 - accuracy: 0.8093 - val_loss: 0.3515 - val_accuracy: 0.9073\n",
            "Epoch 27/100\n",
            "114/114 - 0s - loss: 0.5944 - accuracy: 0.8133 - val_loss: 0.3466 - val_accuracy: 0.9097\n",
            "Epoch 28/100\n",
            "114/114 - 0s - loss: 0.5836 - accuracy: 0.8165 - val_loss: 0.3411 - val_accuracy: 0.9103\n",
            "Epoch 29/100\n",
            "114/114 - 0s - loss: 0.5819 - accuracy: 0.8146 - val_loss: 0.3372 - val_accuracy: 0.9117\n",
            "Epoch 30/100\n",
            "114/114 - 0s - loss: 0.5761 - accuracy: 0.8192 - val_loss: 0.3328 - val_accuracy: 0.9127\n",
            "Epoch 31/100\n",
            "114/114 - 0s - loss: 0.5685 - accuracy: 0.8205 - val_loss: 0.3291 - val_accuracy: 0.9120\n",
            "Epoch 32/100\n",
            "114/114 - 0s - loss: 0.5668 - accuracy: 0.8234 - val_loss: 0.3262 - val_accuracy: 0.9123\n",
            "Epoch 33/100\n",
            "114/114 - 0s - loss: 0.5603 - accuracy: 0.8224 - val_loss: 0.3224 - val_accuracy: 0.9117\n",
            "Epoch 34/100\n",
            "114/114 - 0s - loss: 0.5577 - accuracy: 0.8235 - val_loss: 0.3191 - val_accuracy: 0.9127\n",
            "Epoch 35/100\n",
            "114/114 - 0s - loss: 0.5546 - accuracy: 0.8267 - val_loss: 0.3167 - val_accuracy: 0.9147\n",
            "Epoch 36/100\n",
            "114/114 - 0s - loss: 0.5491 - accuracy: 0.8277 - val_loss: 0.3133 - val_accuracy: 0.9147\n",
            "Epoch 37/100\n",
            "114/114 - 0s - loss: 0.5447 - accuracy: 0.8291 - val_loss: 0.3113 - val_accuracy: 0.9157\n",
            "Epoch 38/100\n",
            "114/114 - 0s - loss: 0.5423 - accuracy: 0.8311 - val_loss: 0.3080 - val_accuracy: 0.9177\n",
            "Epoch 39/100\n",
            "114/114 - 0s - loss: 0.5363 - accuracy: 0.8327 - val_loss: 0.3057 - val_accuracy: 0.9180\n",
            "Epoch 40/100\n",
            "114/114 - 1s - loss: 0.5376 - accuracy: 0.8310 - val_loss: 0.3034 - val_accuracy: 0.9180\n",
            "Epoch 41/100\n",
            "114/114 - 0s - loss: 0.5333 - accuracy: 0.8340 - val_loss: 0.3008 - val_accuracy: 0.9177\n",
            "Epoch 42/100\n",
            "114/114 - 0s - loss: 0.5319 - accuracy: 0.8326 - val_loss: 0.2992 - val_accuracy: 0.9187\n",
            "Epoch 43/100\n",
            "114/114 - 0s - loss: 0.5272 - accuracy: 0.8358 - val_loss: 0.2966 - val_accuracy: 0.9190\n",
            "Epoch 44/100\n",
            "114/114 - 0s - loss: 0.5233 - accuracy: 0.8378 - val_loss: 0.2948 - val_accuracy: 0.9197\n",
            "Epoch 45/100\n",
            "114/114 - 0s - loss: 0.5236 - accuracy: 0.8367 - val_loss: 0.2933 - val_accuracy: 0.9193\n",
            "Epoch 46/100\n",
            "114/114 - 0s - loss: 0.5176 - accuracy: 0.8394 - val_loss: 0.2907 - val_accuracy: 0.9210\n",
            "Epoch 47/100\n",
            "114/114 - 0s - loss: 0.5174 - accuracy: 0.8388 - val_loss: 0.2902 - val_accuracy: 0.9203\n",
            "Epoch 48/100\n",
            "114/114 - 0s - loss: 0.5146 - accuracy: 0.8399 - val_loss: 0.2885 - val_accuracy: 0.9207\n",
            "Epoch 49/100\n",
            "114/114 - 0s - loss: 0.5111 - accuracy: 0.8415 - val_loss: 0.2866 - val_accuracy: 0.9200\n",
            "Epoch 50/100\n",
            "114/114 - 0s - loss: 0.5117 - accuracy: 0.8400 - val_loss: 0.2851 - val_accuracy: 0.9213\n",
            "Epoch 51/100\n",
            "114/114 - 0s - loss: 0.5046 - accuracy: 0.8424 - val_loss: 0.2836 - val_accuracy: 0.9213\n",
            "Epoch 52/100\n",
            "114/114 - 0s - loss: 0.5072 - accuracy: 0.8421 - val_loss: 0.2814 - val_accuracy: 0.9230\n",
            "Epoch 53/100\n",
            "114/114 - 0s - loss: 0.5032 - accuracy: 0.8422 - val_loss: 0.2812 - val_accuracy: 0.9217\n",
            "Epoch 54/100\n",
            "114/114 - 0s - loss: 0.5017 - accuracy: 0.8448 - val_loss: 0.2798 - val_accuracy: 0.9220\n",
            "Epoch 55/100\n",
            "114/114 - 0s - loss: 0.4990 - accuracy: 0.8456 - val_loss: 0.2769 - val_accuracy: 0.9243\n",
            "Epoch 56/100\n",
            "114/114 - 0s - loss: 0.4993 - accuracy: 0.8463 - val_loss: 0.2770 - val_accuracy: 0.9237\n",
            "Epoch 57/100\n",
            "114/114 - 0s - loss: 0.4954 - accuracy: 0.8472 - val_loss: 0.2759 - val_accuracy: 0.9230\n",
            "Epoch 58/100\n",
            "114/114 - 0s - loss: 0.4922 - accuracy: 0.8461 - val_loss: 0.2736 - val_accuracy: 0.9230\n",
            "Epoch 59/100\n",
            "114/114 - 0s - loss: 0.4914 - accuracy: 0.8484 - val_loss: 0.2725 - val_accuracy: 0.9227\n",
            "Epoch 60/100\n",
            "114/114 - 0s - loss: 0.4915 - accuracy: 0.8478 - val_loss: 0.2718 - val_accuracy: 0.9227\n",
            "Epoch 61/100\n",
            "114/114 - 0s - loss: 0.4912 - accuracy: 0.8483 - val_loss: 0.2708 - val_accuracy: 0.9227\n",
            "Epoch 62/100\n",
            "114/114 - 0s - loss: 0.4865 - accuracy: 0.8506 - val_loss: 0.2698 - val_accuracy: 0.9233\n",
            "Epoch 63/100\n",
            "114/114 - 0s - loss: 0.4845 - accuracy: 0.8509 - val_loss: 0.2683 - val_accuracy: 0.9240\n",
            "Epoch 64/100\n",
            "114/114 - 0s - loss: 0.4865 - accuracy: 0.8495 - val_loss: 0.2675 - val_accuracy: 0.9233\n",
            "Epoch 65/100\n",
            "114/114 - 0s - loss: 0.4849 - accuracy: 0.8503 - val_loss: 0.2662 - val_accuracy: 0.9243\n",
            "Epoch 66/100\n",
            "114/114 - 0s - loss: 0.4806 - accuracy: 0.8533 - val_loss: 0.2663 - val_accuracy: 0.9247\n",
            "Epoch 67/100\n",
            "114/114 - 0s - loss: 0.4844 - accuracy: 0.8512 - val_loss: 0.2651 - val_accuracy: 0.9243\n",
            "Epoch 68/100\n",
            "114/114 - 0s - loss: 0.4754 - accuracy: 0.8548 - val_loss: 0.2643 - val_accuracy: 0.9253\n",
            "Epoch 69/100\n",
            "114/114 - 0s - loss: 0.4740 - accuracy: 0.8555 - val_loss: 0.2637 - val_accuracy: 0.9243\n",
            "Epoch 70/100\n",
            "114/114 - 0s - loss: 0.4771 - accuracy: 0.8532 - val_loss: 0.2623 - val_accuracy: 0.9247\n",
            "Epoch 71/100\n",
            "114/114 - 0s - loss: 0.4694 - accuracy: 0.8555 - val_loss: 0.2613 - val_accuracy: 0.9257\n",
            "Epoch 72/100\n",
            "114/114 - 0s - loss: 0.4718 - accuracy: 0.8534 - val_loss: 0.2612 - val_accuracy: 0.9250\n",
            "Epoch 73/100\n",
            "114/114 - 0s - loss: 0.4733 - accuracy: 0.8544 - val_loss: 0.2601 - val_accuracy: 0.9257\n",
            "Epoch 74/100\n",
            "114/114 - 0s - loss: 0.4700 - accuracy: 0.8571 - val_loss: 0.2589 - val_accuracy: 0.9267\n",
            "Epoch 75/100\n",
            "114/114 - 0s - loss: 0.4701 - accuracy: 0.8558 - val_loss: 0.2586 - val_accuracy: 0.9270\n",
            "Epoch 76/100\n",
            "114/114 - 0s - loss: 0.4671 - accuracy: 0.8575 - val_loss: 0.2571 - val_accuracy: 0.9273\n",
            "Epoch 77/100\n",
            "114/114 - 0s - loss: 0.4658 - accuracy: 0.8571 - val_loss: 0.2565 - val_accuracy: 0.9270\n",
            "Epoch 78/100\n",
            "114/114 - 0s - loss: 0.4647 - accuracy: 0.8576 - val_loss: 0.2554 - val_accuracy: 0.9267\n",
            "Epoch 79/100\n",
            "114/114 - 0s - loss: 0.4644 - accuracy: 0.8575 - val_loss: 0.2548 - val_accuracy: 0.9277\n",
            "Epoch 80/100\n",
            "114/114 - 0s - loss: 0.4615 - accuracy: 0.8595 - val_loss: 0.2538 - val_accuracy: 0.9277\n",
            "Epoch 81/100\n",
            "114/114 - 0s - loss: 0.4650 - accuracy: 0.8561 - val_loss: 0.2527 - val_accuracy: 0.9277\n",
            "Epoch 82/100\n",
            "114/114 - 1s - loss: 0.4635 - accuracy: 0.8592 - val_loss: 0.2523 - val_accuracy: 0.9283\n",
            "Epoch 83/100\n",
            "114/114 - 0s - loss: 0.4600 - accuracy: 0.8588 - val_loss: 0.2518 - val_accuracy: 0.9273\n",
            "Epoch 84/100\n",
            "114/114 - 0s - loss: 0.4594 - accuracy: 0.8616 - val_loss: 0.2510 - val_accuracy: 0.9287\n",
            "Epoch 85/100\n",
            "114/114 - 0s - loss: 0.4536 - accuracy: 0.8594 - val_loss: 0.2498 - val_accuracy: 0.9290\n",
            "Epoch 86/100\n",
            "114/114 - 0s - loss: 0.4568 - accuracy: 0.8606 - val_loss: 0.2497 - val_accuracy: 0.9287\n",
            "Epoch 87/100\n",
            "114/114 - 0s - loss: 0.4563 - accuracy: 0.8608 - val_loss: 0.2491 - val_accuracy: 0.9287\n",
            "Epoch 88/100\n",
            "114/114 - 0s - loss: 0.4536 - accuracy: 0.8609 - val_loss: 0.2484 - val_accuracy: 0.9287\n",
            "Epoch 89/100\n",
            "114/114 - 0s - loss: 0.4502 - accuracy: 0.8624 - val_loss: 0.2476 - val_accuracy: 0.9287\n",
            "Epoch 90/100\n",
            "114/114 - 0s - loss: 0.4514 - accuracy: 0.8615 - val_loss: 0.2469 - val_accuracy: 0.9293\n",
            "Epoch 91/100\n",
            "114/114 - 0s - loss: 0.4518 - accuracy: 0.8623 - val_loss: 0.2464 - val_accuracy: 0.9287\n",
            "Epoch 92/100\n",
            "114/114 - 0s - loss: 0.4500 - accuracy: 0.8623 - val_loss: 0.2461 - val_accuracy: 0.9280\n",
            "Epoch 93/100\n",
            "114/114 - 0s - loss: 0.4471 - accuracy: 0.8634 - val_loss: 0.2448 - val_accuracy: 0.9283\n",
            "Epoch 94/100\n",
            "114/114 - 0s - loss: 0.4480 - accuracy: 0.8638 - val_loss: 0.2440 - val_accuracy: 0.9277\n",
            "Epoch 95/100\n",
            "114/114 - 0s - loss: 0.4482 - accuracy: 0.8643 - val_loss: 0.2439 - val_accuracy: 0.9273\n",
            "Epoch 96/100\n",
            "114/114 - 0s - loss: 0.4504 - accuracy: 0.8622 - val_loss: 0.2433 - val_accuracy: 0.9280\n",
            "Epoch 97/100\n",
            "114/114 - 0s - loss: 0.4408 - accuracy: 0.8658 - val_loss: 0.2432 - val_accuracy: 0.9287\n",
            "Epoch 98/100\n",
            "114/114 - 0s - loss: 0.4433 - accuracy: 0.8660 - val_loss: 0.2420 - val_accuracy: 0.9293\n",
            "Epoch 99/100\n",
            "114/114 - 0s - loss: 0.4432 - accuracy: 0.8662 - val_loss: 0.2424 - val_accuracy: 0.9280\n",
            "Epoch 100/100\n",
            "114/114 - 0s - loss: 0.4432 - accuracy: 0.8646 - val_loss: 0.2411 - val_accuracy: 0.9277\n"
          ],
          "name": "stdout"
        },
        {
          "output_type": "display_data",
          "data": {
            "image/png": "[encoded data removed]",
            "text/plain": [
              "<Figure size 432x288 with 1 Axes>"
            ]
          },
          "metadata": {
            "tags": [],
            "needs_background": "light"
          }
        }
      ]
    },
    {
      "cell_type": "code",
      "metadata": {
        "colab": {
          "base_uri": "https://localhost:8080/"
        },
        "id": "tgskEX-MU8Fu",
        "outputId": "0154cb08-4726-42eb-9bc3-f0e1eab2a212"
      },
      "source": [
        "#Printing the accuracy of the model\n",
        "overall_acc = image_model.evaluate(x_test, y_var_test, verbose= 0)\n",
        "print('Test Accuracy:', overall_acc[1])"
      ],
      "execution_count": 10,
      "outputs": [
        {
          "output_type": "stream",
          "text": [
            "Test Accuracy: 0.9070000052452087\n"
          ],
          "name": "stdout"
        }
      ]
    }
  ]
}