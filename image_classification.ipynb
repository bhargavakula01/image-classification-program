{
  "nbformat": 4,
  "nbformat_minor": 0,
  "metadata": {
    "colab": {
      "name": "image-classification.ipynb",
      "provenance": [],
      "collapsed_sections": [],
      "authorship_tag": "ABX9TyNhSP05MUqaoyYtQ77+nF+i",
      "include_colab_link": true
    },
    "kernelspec": {
      "name": "python3",
      "display_name": "Python 3"
    },
    "accelerator": "GPU"
  },
  "cells": [
    {
      "cell_type": "markdown",
      "metadata": {
        "id": "view-in-github",
        "colab_type": "text"
      },
      "source": [
        "<a href=\"https://colab.research.google.com/github/bhargavakula01/image-classification-program/blob/main/image_classification.ipynb\" target=\"_parent\"><img src=\"https://colab.research.google.com/assets/colab-badge.svg\" alt=\"Open In Colab\"/></a>"
      ]
    },
    {
      "cell_type": "code",
      "metadata": {
        "id": "abZ5E79I9q0l"
      },
      "source": [
        "from keras.models import Sequential\n",
        "from keras.layers.core import Dense\n",
        "from keras.layers import Dropout\n",
        "from keras.layers.core import Activation\n",
        "from keras.optimizers import SGD\n",
        "from keras.utils import np_utils\n",
        "from keras.datasets import mnist #bunch of handwritten digits :)\n",
        "import numpy as np\n",
        "import matplotlib.pyplot as plt"
      ],
      "execution_count": 2,
      "outputs": []
    },
    {
      "cell_type": "code",
      "metadata": {
        "colab": {
          "base_uri": "https://localhost:8080/"
        },
        "id": "YUFUGBNx-Aaz",
        "outputId": "e79ad140-9cf5-46f0-d504-3adf1481669b"
      },
      "source": [
        "#loading data from the keras datasets and splitting it into training and validation\n",
        "# https://stackoverflow.com/questions/48566821/is-there-a-keras-method-to-split-data\n",
        "(x_train, y_train), (x_test, y_test) = mnist.load_data()\n",
        "#plt.imshow(x_train[0], cmap= 'grey) <-- allows one to view the images"
      ],
      "execution_count": 3,
      "outputs": [
        {
          "output_type": "stream",
          "text": [
            "Downloading data from https://storage.googleapis.com/tensorflow/tf-keras-datasets/mnist.npz\n",
            "11493376/11490434 [==============================] - 0s 0us/step\n"
          ],
          "name": "stdout"
        }
      ]
    },
    {
      "cell_type": "code",
      "metadata": {
        "colab": {
          "base_uri": "https://localhost:8080/"
        },
        "id": "BRfrnt2T-dQV",
        "outputId": "49a54d1c-1848-456d-a856-3704e7676055"
      },
      "source": [
        "print(\"previous x_train shape:\",x_train.shape) #60000 data points\n",
        "print(\"previous x_test shape:\",x_test.shape) #10000 data points\n",
        "\n",
        "# data must be reshaped in order to get it to (n, xi) format \n",
        "x_train = x_train.reshape(60000, 28*28)\n",
        "x_test = x_test.reshape(10000, 28*28)\n",
        "#converting data type to floats\n",
        "x_train = x_train.astype('float32')\n",
        "x_test = x_test.astype('float32')\n"
      ],
      "execution_count": 7,
      "outputs": [
        {
          "output_type": "stream",
          "text": [
            "previous x_train shape: (60000, 28, 28)\n",
            "previous x_test shape: (10000, 28, 28)\n"
          ],
          "name": "stdout"
        }
      ]
    },
    {
      "cell_type": "code",
      "metadata": {
        "colab": {
          "base_uri": "https://localhost:8080/"
        },
        "id": "g7vM8-gpAnUn",
        "outputId": "9ddfafba-c305-4671-ea1e-76489625b49a"
      },
      "source": [
        "#normalizing the data <-- basically making the pixel values between 0 and 1\n",
        "  # normalizing data in math is setting lengths to 1. In resizing data, this usually means to set the data values between 0 and 1 \n",
        "  #(https://www.calculushowto.com/types-of-functions/normalized-function-normalized-data-and-normalization/)\n",
        "\n",
        "x_train /= 255\n",
        "x_test /= 255\n",
        "print(x_train.shape)\n",
        "print(x_test.shape)"
      ],
      "execution_count": 9,
      "outputs": [
        {
          "output_type": "stream",
          "text": [
            "(60000, 784)\n",
            "(10000, 784)\n"
          ],
          "name": "stdout"
        }
      ]
    },
    {
      "cell_type": "code",
      "metadata": {
        "id": "TIW_mp00FcXP"
      },
      "source": [
        "#splitting y_train and y_test into catagories(1 category for each number)\n",
        "\n",
        "y_var_train = np_utils.to_categorical(y_train, 10)\n",
        "y_var_test = np_utils.to_categorical(y_test, 10)"
      ],
      "execution_count": null,
      "outputs": []
    }
  ]
}